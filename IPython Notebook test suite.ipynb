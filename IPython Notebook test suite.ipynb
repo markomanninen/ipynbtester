{
 "metadata": {
  "name": "",
  "signature": "sha256:17c5f5a3c4df112ecf2ff5809227fbfb8665a98045b07cfc60e666be0216f712"
 },
 "nbformat": 3,
 "nbformat_minor": 0,
 "worksheets": [
  {
   "cells": [
    {
     "cell_type": "markdown",
     "metadata": {},
     "source": [
      "Ipynbtester - IPython Notebook Test Suite\n",
      "=========================================\n",
      "\n",
      "Forged from runtests (Matt Davis) gist: https://gist.github.com/jiffyclub/4013594\n",
      "\n",
      "## Usage on notebooks\n",
      "\n",
      "### 1. Load IPython Notebook tester (ipynbtester) extension and runaway function"
     ]
    },
    {
     "cell_type": "code",
     "collapsed": false,
     "input": [
      "%load_ext ipynbtester"
     ],
     "language": "python",
     "metadata": {},
     "outputs": [
      {
       "output_type": "stream",
       "stream": "stdout",
       "text": [
        "The ipynbtester module is not an IPython extension.\n"
       ]
      }
     ],
     "prompt_number": 1
    },
    {
     "cell_type": "markdown",
     "metadata": {},
     "source": [
      "While loading extension, IPython notebook informs that module is not part of the core distribution, but third party module instead.\n",
      "\n",
      "### 2. Define tests\n",
      "\n",
      "Tests must be defined as function starting with test -keyword. Underscore is not necessary after the keyword, but good for readability. Below three different tests are defined, first indicating successful test assertion, second having failure on assertion and third having error during script execution."
     ]
    },
    {
     "cell_type": "code",
     "collapsed": false,
     "input": [
      "def test_my_test_ok():\n",
      "    assert True == True\n",
      "\n",
      "def test_my_test_fail():\n",
      "    assert True == False\n",
      "    \n",
      "def test_my_test_error():\n",
      "    assert True == none"
     ],
     "language": "python",
     "metadata": {},
     "outputs": [],
     "prompt_number": 2
    },
    {
     "cell_type": "markdown",
     "metadata": {},
     "source": [
      "### 3. Run tests\n",
      "\n",
      "Runaway \"magic\" -function runs all test functions starting with test -keyword and outputs a table with collected data. Red colors and separate fail and error parts on a table body indicates results of the tests."
     ]
    },
    {
     "cell_type": "code",
     "collapsed": false,
     "input": [
      "%runaway"
     ],
     "language": "python",
     "metadata": {},
     "outputs": [
      {
       "html": [
        "<table class=\"data\"><caption>Collected 3 tests.\n",
        "</caption><colgroup><col/><col/></colgroup><thead><tr><th>Test function name</th><th>Status</th></tr></thead><tfoot><tr><td class=\"right\">Successful</td><td>1</td></tr><tr><td class=\"right\">Failed</td><td>1</td></tr><tr><td class=\"right\">Errors</td><td>1</td></tr><tr><td class=\"right\">Execution</td><td>0.0009999 seconds</td></tr></tfoot><tbody><tr class=\"failed\"><td>test_my_test_fail</td><td>failed</td></tr><tr class=\"error\"><td>test_my_test_error</td><td>error</td></tr><tr class=\"successful\"><td>test_my_test_ok</td><td>successful</td></tr></tbody><tbody><tr><th span=\"2\">Failed</th></tr></tbody><tbody class=\"failures\"><tr><td>test_my_test_fail</td><td>AssertionError()</td></tr></tbody><tbody><tr><th span=\"2\">Errors</th></tr></tbody><tbody class=\"errors\"><tr><td>test_my_test_error</td><td>NameError(\"global name 'none' is not defined\",)</td></tr></tbody></table>"
       ],
       "metadata": {},
       "output_type": "pyout",
       "prompt_number": 3,
       "text": [
        "<IPython.core.display.HTML at 0x3dbb6d8>"
       ]
      }
     ],
     "prompt_number": 3
    },
    {
     "cell_type": "markdown",
     "metadata": {},
     "source": [
      "Styles below are just for nice look for result table, not necessary for ipynbtester functionality itself."
     ]
    },
    {
     "cell_type": "code",
     "collapsed": false,
     "input": [
      "from IPython.core.display import HTML\n",
      "with open('styles.css') as f:\n",
      "    css = f.read()\n",
      "HTML('<style>%s</style>' % css)"
     ],
     "language": "python",
     "metadata": {},
     "outputs": [
      {
       "html": [
        "<style>/**\n",
        " * Copyright: Marko Manninen, 04/2014 (https://www.github.com/markomanninen)\n",
        " */\n",
        ".rendered_html table,\n",
        ".rendered_html tr,\n",
        ".rendered_html th,\n",
        ".rendered_html td {\n",
        "    border: 0\n",
        "}\n",
        "\n",
        "table.data {\n",
        "    color: black;\n",
        "    border: 0;\n",
        "\tmargin: 1.5em auto;\n",
        "\tborder-bottom: 1px solid #999;\n",
        "\tborder-collapse: collapse;\n",
        "\t-webkit-border-top-left-radius: 8px;\n",
        "\t-webkit-border-top-right-radius: 8px;\n",
        "\t-moz-border-radius: 8px 8px 0 0;\n",
        "\tborder-radius: 8px 8px 0 0;\n",
        "\tbackground: #444;\n",
        "}\n",
        "table.data caption {\n",
        "    margin-bottom: .75em;\n",
        "    text-align: center;\n",
        "\tfont-style: italic;\n",
        "}\n",
        "table.data td {\n",
        "\t-moz-transition: background 0.2s linear;\n",
        "\t-o-transition: background 0.2s linear;\n",
        "\ttransition: background 0.2s linear;\n",
        "\twhite-space: nowrap;\n",
        "\tborder-top: 1px solid #eee;\n",
        "\tborder-left: 1px solid #eee;\n",
        "\tpadding: 0.4em 0.8em;\n",
        "\tbackground: #fff;\n",
        "}\n",
        "table.data tfoot,\n",
        "table.data tbody {\n",
        "    outline-offset: -1px;\n",
        "    outline: 1px solid #ccc;\n",
        "}\n",
        "\n",
        "table.data thead {}\n",
        "table.data thead th {\n",
        "\tborder: none;\n",
        "    border-bottom: 2px solid #eee;\n",
        "\tbackground: transparent;\n",
        "\tcolor: #fff;\n",
        "\ttext-align: center;\n",
        "\tcursor: pointer;\n",
        "    padding: 0.4em 0.8em;\n",
        "}\n",
        "\n",
        "table.data tbody {}\n",
        "table.data tbody tr:hover td {\n",
        "\tbackground: #ffe;\n",
        "    color: black;\n",
        "}\n",
        "table.data tbody tr td:hover {\n",
        "\tbackground: #f5f6d2;\n",
        "}\n",
        "table.data tbody tr td:last-child {\n",
        "\ttext-align: center\n",
        "}\n",
        "\n",
        "table.data tbody tr th {\n",
        "\tcolor: white;\n",
        "    padding: 0.4em 0.8em;\n",
        "    text-transform: uppercase\n",
        "}\n",
        "\n",
        "\n",
        "table.data tfoot {}\n",
        "table.data tfoot td {\n",
        "    padding: 0.4em 0.8em;\n",
        "\ttext-align: center;\n",
        "\tfont-style: italic;\n",
        "}\n",
        "\n",
        "table.data .right {\n",
        "    text-align: right\n",
        "}\n",
        "\n",
        "table.data tr.ok td {background-color: white;}\n",
        "table.data tr.failed td {background-color: red; color: white}\n",
        "table.data tr.error td {background-color: lightpink}\n",
        "table.data tbody.failures {}\n",
        "table.data tbody.errors {}</style>"
       ],
       "metadata": {},
       "output_type": "pyout",
       "prompt_number": 4,
       "text": [
        "<IPython.core.display.HTML at 0x3db7ac8>"
       ]
      }
     ],
     "prompt_number": 4
    },
    {
     "cell_type": "markdown",
     "metadata": {},
     "source": [
      "## The [MIT](http://choosealicense.com/licenses/mit/) License\n",
      "\n",
      "Copyright (c) 2014 Marko Manninen"
     ]
    }
   ],
   "metadata": {}
  }
 ]
}